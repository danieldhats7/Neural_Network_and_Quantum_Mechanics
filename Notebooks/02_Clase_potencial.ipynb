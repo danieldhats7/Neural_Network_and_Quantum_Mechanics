{
 "cells": [
  {
   "cell_type": "code",
   "execution_count": 3,
   "metadata": {},
   "outputs": [],
   "source": [
    "import numpy as np\n",
    "from scipy.special import factorial\n",
    "from scipy import linalg as LA\n",
    "import scipy.sparse as sps\n",
    "from scipy.linalg import eigh\n",
    "from scipy.special import eval_hermite\n",
    "from scipy.signal import argrelextrema\n",
    "\n",
    "class potencial_datos:\n",
    "    def __init__(self, N=10):\n",
    "        self.N = N\n",
    "\n",
    "    def I_nmr(self,n, m, r):\n",
    "        if r<0 or n<0 or m<0:\n",
    "            return 0\n",
    "        if r==0:\n",
    "            if n==m:\n",
    "                return np.sqrt(np.pi)*2**n*factorial(n)\n",
    "            else:\n",
    "                return 0\n",
    "        return 1./2*self.I_nmr(n+1,m,r-1) + n*self.I_nmr(n-1,m,r-1)\n",
    "\n",
    "    def C_nm(self, n, m, alphas):\n",
    "        An = 1./np.sqrt(np.sqrt(np.pi)*factorial(n)*2**n)\n",
    "        Am = 1./np.sqrt(np.sqrt(np.pi)*factorial(m)*2**m)\n",
    "        I1 = -1/2*self.I_nmr(n,m,2)\n",
    "        I2 = 1/2*self.I_nmr(n,m,0)\n",
    "        I3 = 2*m*self.I_nmr(n,m-1,1)\n",
    "        I4 = -2*m*(m-1)*self.I_nmr(n, m-2,0)\n",
    "        Iv = 0\n",
    "        for i in range(len(alphas)):\n",
    "            Iv+=alphas[i]*self.I_nmr(n,m,i)\n",
    "        return An*Am*(I1+I2+I3+I4+Iv)\n",
    "\n",
    "    def Calcular_energia_alpha_minimo(self, alphas, estado_n=0):\n",
    "        N = len(alphas)\n",
    "        # Generando la matriz C_nm\n",
    "        C = np.zeros((N,N))\n",
    "        for n in range(N):\n",
    "            for m in range(N):\n",
    "                C[n,m] = self.C_nm(n,m,alphas)\n",
    "\n",
    "        # Generando la matriz D\n",
    "        D = np.zeros((N,N))\n",
    "        for n in range(N):\n",
    "            for m in range(n+1):\n",
    "                D[n,m] = C[n,m] + C[m,n]\n",
    "                D[m,n] = D[n,m]\n",
    "\n",
    "        # Diagonalizando la matriz D\n",
    "        vaps, veps = eigh(D)\n",
    "\n",
    "        # Calcular <H> \n",
    "        Hs = np.zeros(N)\n",
    "        for i in range(N):\n",
    "            a = veps[:, i]\n",
    "            for n in range(N):\n",
    "                for m in range(N):\n",
    "                    Hs[i]+=a[n]*a[m]*C[n,m]\n",
    "\n",
    "        # 4. We choose the vector which minimizes <H>\n",
    "        # If n_state!=0, we choose the vector with n_state-th lowest energy\n",
    "        # as an approximation of the n_state excited state \n",
    "        sel = np.argsort(Hs)[estado_n] #np.argmin(Hs)\n",
    "        a = veps[:, sel] # Final value of eigenvalues for state n_state\n",
    "        E_a = Hs[sel] # Value of the energy\n",
    "        return E_a, a\n",
    "\n",
    "    def HO_wavefunction(self, n, xmin, xmax, n_points):\n",
    "        x = np.arange(xmin, xmax, (xmax - xmin)/n_points)\n",
    "        herm = eval_hermite(n, x) # H_n(x)\n",
    "        exp = np.exp(- x**2/2) # Exponential term\n",
    "        phi_n = exp*herm\n",
    "\n",
    "        # Normalization\n",
    "        h = (xmax - xmin)/n_points\n",
    "        C = 1./np.sqrt(np.sum(phi_n*phi_n*h))\n",
    "        phi_n = C*phi_n\n",
    "        \n",
    "        return phi_n\n",
    "\n",
    "    def final_wavefunction(self, xmin, xmax, n_points, a):\n",
    "        x = np.arange(xmin, xmax, (xmax - xmin)/n_points)\n",
    "        n_samples, _ = a.shape\n",
    "        # Construct matrix of phi_n\n",
    "        phis = np.zeros((self.N, n_points))\n",
    "\n",
    "        for i in range(N):\n",
    "            phis[i,:] = self.O_wavefunction(i, xmin, xmax, n_points)\n",
    "\n",
    "        waves = np.zeros((n_samples, n_points))\n",
    "        for i in range(n_samples):\n",
    "            for j in range(n_points):\n",
    "                waves[i,j] = np.dot(a[i,:],phis[:,j])\n",
    "            # convention: To choose the phase we make the maximums be first\n",
    "            w = waves[i,:]\n",
    "            maxi = argrelextrema(w, np.greater)[0] #array con indices de maximos localles de w\n",
    "            mini = argrelextrema(w, np.less)[0]    #array con indices de minimos localles de w\n",
    "            idx2= np.abs(w[maxi])>5e-2 \n",
    "            maxi = maxi[idx2] #idices con valores absolutos maximos de la funcion wave > 0.05\n",
    "            idx2= np.abs(w[mini])>5e-2 \n",
    "            mini = mini[idx2] #idices con valores absolutos minimos de la funcion wave > 0.05\n",
    "            if len(maxi)==0 and len(mini)>0:\n",
    "                waves[i,:] = -waves[i,:]\n",
    "            elif len(mini)>0 and len(maxi)>0 and mini[0]<maxi[0]:\n",
    "                waves[i,:] = -waves[i,:]\n",
    "        return waves, x, phis\n",
    "\n",
    "    def evaluar_potencial(self, xmin, xmax, n_points, alpha):\n",
    "        x = np.arange(xmin, xmax, (xmax - xmin)/n_points)\n",
    "        n_samples, k = alpha.shape\n",
    "        V = np.zeros((n_samples, n_points))\n",
    "        x_mat = (x**np.arange(k)[:,None])# Matrix of powers of x: x^0, x^1, x^2, ..., x^N (in every row)\n",
    "        V = np.zeros((n_samples, n_points))# V(x) in each row different alpha\n",
    "        for i in range(n_samples):\n",
    "            for j in range(n_points):\n",
    "                V[i,j] = np.dot(alpha[i,:],x_mat[:,j])\n",
    "        return V, x"
   ]
  },
  {
   "cell_type": "markdown",
   "metadata": {},
   "source": [
    "# Generando datos"
   ]
  },
  {
   "cell_type": "code",
   "execution_count": 4,
   "metadata": {},
   "outputs": [
    {
     "name": "stdout",
     "output_type": "stream",
     "text": [
      "Energia minima = -16.809056472204936\n",
      "alphas optimos = [-0.14884172  0.39568861 -0.71372478  0.55845645]\n"
     ]
    }
   ],
   "source": [
    "alphas = np.array([1, 2, 3, 4])\n",
    "potencial = potencial_datos()\n",
    "\n",
    "E_min, a_min = potencial.Calcular_energia_alpha_minimo(alphas)\n",
    "print('Energia minima = {}'.format(E_min))\n",
    "print('alphas optimos = {}'.format(a_min))"
   ]
  },
  {
   "cell_type": "code",
   "execution_count": 14,
   "metadata": {},
   "outputs": [],
   "source": [
    "n_ejemplos = 20\n",
    "alpha_min = np.array([-4.5, -0.65, 0.2, -0.01, 0])\n",
    "alpha_max = np.array([1.5, 0.65, 1, 0.01, 0.1])\n",
    "k = len(alpha_min)\n",
    "\n",
    "r_alpha = np.random.random((n_ejemplos, k))\n",
    "alpha = r_alpha*(alpha_max - alpha_min)+ alpha_min # random alpha\n",
    "E = np.zeros(n_ejemplos)\n",
    "a = np.zeros((n_ejemplos, 10))\n",
    "\n",
    "for i in range(n_ejemplos):\n",
    "    alphass = 2"
   ]
  },
  {
   "cell_type": "code",
   "execution_count": 15,
   "metadata": {},
   "outputs": [
    {
     "data": {
      "text/plain": [
       "(20, 5)"
      ]
     },
     "execution_count": 15,
     "metadata": {},
     "output_type": "execute_result"
    }
   ],
   "source": [
    "alpha.shape"
   ]
  },
  {
   "cell_type": "code",
   "execution_count": null,
   "metadata": {},
   "outputs": [],
   "source": []
  }
 ],
 "metadata": {
  "interpreter": {
   "hash": "927aeeb0a232f6209125599fa1117ec7befda0a446d6dec83ec6f9bde3291191"
  },
  "kernelspec": {
   "display_name": "Python 3.9.7 64-bit ('env': venv)",
   "language": "python",
   "name": "python3"
  },
  "language_info": {
   "codemirror_mode": {
    "name": "ipython",
    "version": 3
   },
   "file_extension": ".py",
   "mimetype": "text/x-python",
   "name": "python",
   "nbconvert_exporter": "python",
   "pygments_lexer": "ipython3",
   "version": "3.9.7"
  },
  "orig_nbformat": 4
 },
 "nbformat": 4,
 "nbformat_minor": 2
}
